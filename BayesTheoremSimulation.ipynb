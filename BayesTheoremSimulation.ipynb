{
  "nbformat": 4,
  "nbformat_minor": 0,
  "metadata": {
    "colab": {
      "name": "BayesTheoremSimulation.ipynb",
      "provenance": [],
      "authorship_tag": "ABX9TyOSK6EEW7FHvesOnIfoHsM7",
      "include_colab_link": true
    },
    "kernelspec": {
      "name": "python3",
      "display_name": "Python 3"
    }
  },
  "cells": [
    {
      "cell_type": "markdown",
      "metadata": {
        "id": "view-in-github",
        "colab_type": "text"
      },
      "source": [
        "<a href=\"https://colab.research.google.com/github/rpmullig/CodingMath/blob/master/BayesTheoremSimulation.ipynb\" target=\"_parent\"><img src=\"https://colab.research.google.com/assets/colab-badge.svg\" alt=\"Open In Colab\"/></a>"
      ]
    },
    {
      "cell_type": "markdown",
      "metadata": {
        "id": "HCYEnx6oBukt"
      },
      "source": [
        "This experiment displays the counter-intuitive Bayes theorem principle in code. "
      ]
    },
    {
      "cell_type": "code",
      "metadata": {
        "colab": {
          "base_uri": "https://localhost:8080/"
        },
        "id": "Q259ZP16Bc4p",
        "outputId": "7806717a-c4ea-4fc1-ba8f-c1525f1314ea"
      },
      "source": [
        "import numpy as np\r\n",
        "\r\n",
        "def diagnosis(f=.001, g=.95, n=100000) -> np.float:\r\n",
        "  '''\r\n",
        "  # randomly assign a person as sick or not sick\r\n",
        "  # Then, see if the test accurately diagnosis this person or not\r\n",
        "  # Return the false positive rate \r\n",
        "\r\n",
        "  f: fraction of population that has disease (0.001 by default)\r\n",
        "  g: accuracy of our test\r\n",
        "  '''\r\n",
        "  sick = False\r\n",
        "  sick_count = 0\r\n",
        "  positive_test_count = 0\r\n",
        "  positive_test_and_sick_count = 0\r\n",
        "\r\n",
        "  for _ in range(n): \r\n",
        "    sick = False\r\n",
        "\r\n",
        "    if np.random.uniform(low=0,high=1) <= f: \r\n",
        "      sick = True\r\n",
        "      sick_count += 1\r\n",
        "\r\n",
        "    if np.random.uniform(low=0,high=1) <= g:\r\n",
        "      if sick:\r\n",
        "        positive_test_count += 1\r\n",
        "        positive_test_and_sick_count += 1\r\n",
        "      else:\r\n",
        "        positive_test_count += 1\r\n",
        "\r\n",
        "  return np.float(positive_test_and_sick_count) / np.float(positive_test_count)\r\n",
        "\r\n",
        "diagnosis()"
      ],
      "execution_count": 17,
      "outputs": [
        {
          "output_type": "execute_result",
          "data": {
            "text/plain": [
              "0.0010106752574063546"
            ]
          },
          "metadata": {
            "tags": []
          },
          "execution_count": 17
        }
      ]
    }
  ]
}